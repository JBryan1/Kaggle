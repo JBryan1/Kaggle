{
 "cells": [
  {
   "cell_type": "markdown",
   "metadata": {
    "collapsed": true
   },
   "source": [
    "### Problem\n",
    "The RMS Titanic was the largest ocean liner to enter service at the time and included numerous luxury amentities for upper-class passengers. The ship also transported many poor immigrants seeking to begin a new life in America. On April 15th, 1912 the RMS Titanic hit an iceberg on its maiden voyage from Southampton, England to New York, New York. The disaster claimed approximately 1,500 lives while 710 survived. How can we predict whether a passenger died on the RMS Titanic  using passenger data including demographics, fare, cabin, embarkation, and ticket information?"
   ]
  },
  {
   "cell_type": "markdown",
   "metadata": {},
   "source": [
    "### Approach\n",
    "\n",
    "In a real-life scenario, analysis like this could be used to predict the severity of future martitime accidents or compare similar historical maritime accidents to the RMS Titanic. In emergency situations, a model that most accurately predicts passenger mortality could allow for better emergency planning and response. Future retrospective analysis may benefit from a model that accurately predicts passenger mortality on the RMS Titanic while allowing features of the model to remain interpretable to further test and investigate the history behind tragic maritime accidents. As an example, historians may like to test the hypothesis whether the \"women and children first\" policy had a significant impact on the survivalability of women and children."
   ]
  },
  {
   "cell_type": "markdown",
   "metadata": {},
   "source": [
    "### Goal\n",
    "Develop two models that predict whether a passenger of the RMS Titanic survived. \n",
    "\n",
    "- **Prediction.**The first model should give the highest cross-validated prediction accuracy. This model is intended to be used to predict future maritime accident severity.\n",
    "- **Statistical inference**.The second model should give maximum interpretability of features while achieving an cross validated prediction accuracy of no less than 25% lower than the first model. This model is intended to allow for comparison of other historical maritime accidents to validate the importance of different passenger features. \n"
   ]
  },
  {
   "cell_type": "markdown",
   "metadata": {},
   "source": [
    "### Data Cleaning and Feature Engineering"
   ]
  },
  {
   "cell_type": "markdown",
   "metadata": {},
   "source": [
    "***NEED TO EXTRACT CABIN NUMBER***\n",
    "\n",
    "- The alphanumeric Ticket feature was split into two seperate features:\n",
    "    - Ticket Number is a numerical feature that represents the ticket number\n",
    "    - Ticket Prefix is a categorical feature was transformed into dummy variables for each unique prefix\n",
    "- A new feature recorded whether cabin information was present\n",
    "- Dummy features were created for each lettered cabin level (e.g. Cabins A, Cabins B)\n",
    "- Dummy feartures were created for Sex and Embarked"
   ]
  },
  {
   "cell_type": "markdown",
   "metadata": {},
   "source": [
    "### Results"
   ]
  },
  {
   "cell_type": "markdown",
   "metadata": {
    "collapsed": true
   },
   "source": [
    "**Model performance**\n",
    "- A gradient boosting classifier model achieved the highest cross validated prediction accuracy at 83.9 percent\n",
    "- The logistic regression model with L1 regularizer achieved a cross validated prediction accuracy of 79.1 percent (approximately 6 percent lower than the best prediction model) with the best model interpretability\n",
    "\n",
    "**Age, sex, and family size were very important to survivability**\n",
    "- Passenger age and sex were the most important features for modeling surviability\n",
    "- Being female increased odds of survival by over 17 times, while each addition year in age decreased the probability of survival by roughly 4 percent\n",
    "- Each additional sibling or spouse decreased the odds of survival by roughly 30 percent\n",
    "\n",
    "**Cabin location and ticket information affected survivability**\n",
    "- Having cabin information recorded increases the odd of survival by 80 percent\n",
    "- Cabin E, and ticket prefixes \"STONO 2\" and \"SWPP\" increased the odds of survival by approximately 3.5, 9.5 and 56.8 times\n",
    "- Ticket prefix \"WC\" decreases the odds of survival by roughly 70 percent"
   ]
  },
  {
   "cell_type": "code",
   "execution_count": null,
   "metadata": {
    "collapsed": true
   },
   "outputs": [],
   "source": []
  }
 ],
 "metadata": {
  "anaconda-cloud": {},
  "kernelspec": {
   "display_name": "Python [conda root]",
   "language": "python",
   "name": "conda-root-py"
  },
  "language_info": {
   "codemirror_mode": {
    "name": "ipython",
    "version": 3
   },
   "file_extension": ".py",
   "mimetype": "text/x-python",
   "name": "python",
   "nbconvert_exporter": "python",
   "pygments_lexer": "ipython3",
   "version": "3.5.2"
  }
 },
 "nbformat": 4,
 "nbformat_minor": 1
}
