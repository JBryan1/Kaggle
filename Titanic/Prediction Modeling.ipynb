{
 "cells": [
  {
   "cell_type": "markdown",
   "metadata": {},
   "source": [
    "### Import Libraries"
   ]
  },
  {
   "cell_type": "code",
   "execution_count": 54,
   "metadata": {
    "collapsed": false
   },
   "outputs": [],
   "source": [
    "import numpy as np\n",
    "import pandas as pd\n",
    "import matplotlib.pyplot as plt\n",
    "import seaborn as sns\n",
    "import sklearn.preprocessing\n",
    "import sklearn.linear_model\n",
    "import sklearn.neighbors\n",
    "import sklearn.svm\n",
    "import sklearn.naive_bayes\n",
    "import sklearn.ensemble\n",
    "import sklearn.model_selection\n",
    "import warnings\n",
    "warnings.filterwarnings('ignore')\n",
    "import wrangle #Custom scripts I created. See documentation."
   ]
  },
  {
   "cell_type": "markdown",
   "metadata": {},
   "source": [
    "### Retrieve Training and Test Data"
   ]
  },
  {
   "cell_type": "code",
   "execution_count": 95,
   "metadata": {
    "collapsed": false
   },
   "outputs": [
    {
     "name": "stdout",
     "output_type": "stream",
     "text": [
      "{'C', 'A', 'F', 'G', 'T', 'E', 'B', 'D'}\n",
      "{'C', 'A', 'F', 'G', 'B', 'E', 'D'}\n"
     ]
    }
   ],
   "source": [
    "#Load data\n",
    "filepath1 = \"Data/train.csv\"\n",
    "filepath2 = \"Data/test.csv\"\n",
    "train = pd.read_csv(filepath1)\n",
    "test = pd.read_csv(filepath2)\n",
    "\n",
    "#Wrangle data\n",
    "train = wrangle.wrangle(train)\n",
    "test = wrangle.wrangle(test)"
   ]
  },
  {
   "cell_type": "code",
   "execution_count": 56,
   "metadata": {
    "collapsed": false
   },
   "outputs": [
    {
     "data": {
      "text/html": [
       "<div>\n",
       "<style>\n",
       "    .dataframe thead tr:only-child th {\n",
       "        text-align: right;\n",
       "    }\n",
       "\n",
       "    .dataframe thead th {\n",
       "        text-align: left;\n",
       "    }\n",
       "\n",
       "    .dataframe tbody tr th {\n",
       "        vertical-align: top;\n",
       "    }\n",
       "</style>\n",
       "<table border=\"1\" class=\"dataframe\">\n",
       "  <thead>\n",
       "    <tr style=\"text-align: right;\">\n",
       "      <th></th>\n",
       "      <th>Survived</th>\n",
       "      <th>Pclass</th>\n",
       "      <th>Age</th>\n",
       "      <th>SibSp</th>\n",
       "      <th>Parch</th>\n",
       "      <th>Fare</th>\n",
       "      <th>Ticket_Num</th>\n",
       "      <th>Cabin_Yes</th>\n",
       "      <th>Cabin_C</th>\n",
       "      <th>Cabin_A</th>\n",
       "      <th>...</th>\n",
       "      <th>Ticket_Prefix_SOP</th>\n",
       "      <th>Ticket_Prefix_SOPP</th>\n",
       "      <th>Ticket_Prefix_SOTONO2</th>\n",
       "      <th>Ticket_Prefix_SOTONOQ</th>\n",
       "      <th>Ticket_Prefix_SP</th>\n",
       "      <th>Ticket_Prefix_STONO 2</th>\n",
       "      <th>Ticket_Prefix_STONO2</th>\n",
       "      <th>Ticket_Prefix_SWPP</th>\n",
       "      <th>Ticket_Prefix_WC</th>\n",
       "      <th>Ticket_Prefix_WEP</th>\n",
       "    </tr>\n",
       "  </thead>\n",
       "  <tbody>\n",
       "    <tr>\n",
       "      <th>0</th>\n",
       "      <td>0</td>\n",
       "      <td>3</td>\n",
       "      <td>22.0</td>\n",
       "      <td>1</td>\n",
       "      <td>0</td>\n",
       "      <td>7.2500</td>\n",
       "      <td>21171.0</td>\n",
       "      <td>0</td>\n",
       "      <td>0</td>\n",
       "      <td>0</td>\n",
       "      <td>...</td>\n",
       "      <td>0</td>\n",
       "      <td>0</td>\n",
       "      <td>0</td>\n",
       "      <td>0</td>\n",
       "      <td>0</td>\n",
       "      <td>0</td>\n",
       "      <td>0</td>\n",
       "      <td>0</td>\n",
       "      <td>0</td>\n",
       "      <td>0</td>\n",
       "    </tr>\n",
       "    <tr>\n",
       "      <th>1</th>\n",
       "      <td>1</td>\n",
       "      <td>1</td>\n",
       "      <td>38.0</td>\n",
       "      <td>1</td>\n",
       "      <td>0</td>\n",
       "      <td>71.2833</td>\n",
       "      <td>17599.0</td>\n",
       "      <td>1</td>\n",
       "      <td>1</td>\n",
       "      <td>0</td>\n",
       "      <td>...</td>\n",
       "      <td>0</td>\n",
       "      <td>0</td>\n",
       "      <td>0</td>\n",
       "      <td>0</td>\n",
       "      <td>0</td>\n",
       "      <td>0</td>\n",
       "      <td>0</td>\n",
       "      <td>0</td>\n",
       "      <td>0</td>\n",
       "      <td>0</td>\n",
       "    </tr>\n",
       "    <tr>\n",
       "      <th>2</th>\n",
       "      <td>1</td>\n",
       "      <td>3</td>\n",
       "      <td>26.0</td>\n",
       "      <td>0</td>\n",
       "      <td>0</td>\n",
       "      <td>7.9250</td>\n",
       "      <td>3101282.0</td>\n",
       "      <td>0</td>\n",
       "      <td>0</td>\n",
       "      <td>0</td>\n",
       "      <td>...</td>\n",
       "      <td>0</td>\n",
       "      <td>0</td>\n",
       "      <td>0</td>\n",
       "      <td>0</td>\n",
       "      <td>0</td>\n",
       "      <td>0</td>\n",
       "      <td>1</td>\n",
       "      <td>0</td>\n",
       "      <td>0</td>\n",
       "      <td>0</td>\n",
       "    </tr>\n",
       "    <tr>\n",
       "      <th>3</th>\n",
       "      <td>1</td>\n",
       "      <td>1</td>\n",
       "      <td>35.0</td>\n",
       "      <td>1</td>\n",
       "      <td>0</td>\n",
       "      <td>53.1000</td>\n",
       "      <td>113803.0</td>\n",
       "      <td>1</td>\n",
       "      <td>1</td>\n",
       "      <td>0</td>\n",
       "      <td>...</td>\n",
       "      <td>0</td>\n",
       "      <td>0</td>\n",
       "      <td>0</td>\n",
       "      <td>0</td>\n",
       "      <td>0</td>\n",
       "      <td>0</td>\n",
       "      <td>0</td>\n",
       "      <td>0</td>\n",
       "      <td>0</td>\n",
       "      <td>0</td>\n",
       "    </tr>\n",
       "    <tr>\n",
       "      <th>4</th>\n",
       "      <td>0</td>\n",
       "      <td>3</td>\n",
       "      <td>35.0</td>\n",
       "      <td>0</td>\n",
       "      <td>0</td>\n",
       "      <td>8.0500</td>\n",
       "      <td>373450.0</td>\n",
       "      <td>0</td>\n",
       "      <td>0</td>\n",
       "      <td>0</td>\n",
       "      <td>...</td>\n",
       "      <td>0</td>\n",
       "      <td>0</td>\n",
       "      <td>0</td>\n",
       "      <td>0</td>\n",
       "      <td>0</td>\n",
       "      <td>0</td>\n",
       "      <td>0</td>\n",
       "      <td>0</td>\n",
       "      <td>0</td>\n",
       "      <td>0</td>\n",
       "    </tr>\n",
       "  </tbody>\n",
       "</table>\n",
       "<p>5 rows × 53 columns</p>\n",
       "</div>"
      ],
      "text/plain": [
       "   Survived  Pclass   Age  SibSp  Parch     Fare  Ticket_Num  Cabin_Yes  \\\n",
       "0         0       3  22.0      1      0   7.2500     21171.0          0   \n",
       "1         1       1  38.0      1      0  71.2833     17599.0          1   \n",
       "2         1       3  26.0      0      0   7.9250   3101282.0          0   \n",
       "3         1       1  35.0      1      0  53.1000    113803.0          1   \n",
       "4         0       3  35.0      0      0   8.0500    373450.0          0   \n",
       "\n",
       "   Cabin_C  Cabin_A        ...          Ticket_Prefix_SOP  Ticket_Prefix_SOPP  \\\n",
       "0        0        0        ...                          0                   0   \n",
       "1        1        0        ...                          0                   0   \n",
       "2        0        0        ...                          0                   0   \n",
       "3        1        0        ...                          0                   0   \n",
       "4        0        0        ...                          0                   0   \n",
       "\n",
       "   Ticket_Prefix_SOTONO2  Ticket_Prefix_SOTONOQ  Ticket_Prefix_SP  \\\n",
       "0                      0                      0                 0   \n",
       "1                      0                      0                 0   \n",
       "2                      0                      0                 0   \n",
       "3                      0                      0                 0   \n",
       "4                      0                      0                 0   \n",
       "\n",
       "   Ticket_Prefix_STONO 2  Ticket_Prefix_STONO2  Ticket_Prefix_SWPP  \\\n",
       "0                      0                     0                   0   \n",
       "1                      0                     0                   0   \n",
       "2                      0                     1                   0   \n",
       "3                      0                     0                   0   \n",
       "4                      0                     0                   0   \n",
       "\n",
       "   Ticket_Prefix_WC  Ticket_Prefix_WEP  \n",
       "0                 0                  0  \n",
       "1                 0                  0  \n",
       "2                 0                  0  \n",
       "3                 0                  0  \n",
       "4                 0                  0  \n",
       "\n",
       "[5 rows x 53 columns]"
      ]
     },
     "execution_count": 56,
     "metadata": {},
     "output_type": "execute_result"
    }
   ],
   "source": [
    "train.head(5)"
   ]
  },
  {
   "cell_type": "code",
   "execution_count": 57,
   "metadata": {
    "collapsed": false
   },
   "outputs": [
    {
     "data": {
      "text/html": [
       "<div>\n",
       "<style>\n",
       "    .dataframe thead tr:only-child th {\n",
       "        text-align: right;\n",
       "    }\n",
       "\n",
       "    .dataframe thead th {\n",
       "        text-align: left;\n",
       "    }\n",
       "\n",
       "    .dataframe tbody tr th {\n",
       "        vertical-align: top;\n",
       "    }\n",
       "</style>\n",
       "<table border=\"1\" class=\"dataframe\">\n",
       "  <thead>\n",
       "    <tr style=\"text-align: right;\">\n",
       "      <th></th>\n",
       "      <th>Pclass</th>\n",
       "      <th>Age</th>\n",
       "      <th>SibSp</th>\n",
       "      <th>Parch</th>\n",
       "      <th>Fare</th>\n",
       "      <th>Ticket_Num</th>\n",
       "      <th>Cabin_Yes</th>\n",
       "      <th>Cabin_C</th>\n",
       "      <th>Cabin_A</th>\n",
       "      <th>Cabin_F</th>\n",
       "      <th>...</th>\n",
       "      <th>Ticket_Prefix_SCParis</th>\n",
       "      <th>Ticket_Prefix_SOC</th>\n",
       "      <th>Ticket_Prefix_SOPP</th>\n",
       "      <th>Ticket_Prefix_SOTONO2</th>\n",
       "      <th>Ticket_Prefix_SOTONOQ</th>\n",
       "      <th>Ticket_Prefix_STONO 2</th>\n",
       "      <th>Ticket_Prefix_STONO2</th>\n",
       "      <th>Ticket_Prefix_STONOQ</th>\n",
       "      <th>Ticket_Prefix_WC</th>\n",
       "      <th>Ticket_Prefix_WEP</th>\n",
       "    </tr>\n",
       "  </thead>\n",
       "  <tbody>\n",
       "    <tr>\n",
       "      <th>0</th>\n",
       "      <td>3</td>\n",
       "      <td>34.5</td>\n",
       "      <td>0</td>\n",
       "      <td>0</td>\n",
       "      <td>7.8292</td>\n",
       "      <td>330911.0</td>\n",
       "      <td>0</td>\n",
       "      <td>0</td>\n",
       "      <td>0</td>\n",
       "      <td>0</td>\n",
       "      <td>...</td>\n",
       "      <td>0</td>\n",
       "      <td>0</td>\n",
       "      <td>0</td>\n",
       "      <td>0</td>\n",
       "      <td>0</td>\n",
       "      <td>0</td>\n",
       "      <td>0</td>\n",
       "      <td>0</td>\n",
       "      <td>0</td>\n",
       "      <td>0</td>\n",
       "    </tr>\n",
       "    <tr>\n",
       "      <th>1</th>\n",
       "      <td>3</td>\n",
       "      <td>47.0</td>\n",
       "      <td>1</td>\n",
       "      <td>0</td>\n",
       "      <td>7.0000</td>\n",
       "      <td>363272.0</td>\n",
       "      <td>0</td>\n",
       "      <td>0</td>\n",
       "      <td>0</td>\n",
       "      <td>0</td>\n",
       "      <td>...</td>\n",
       "      <td>0</td>\n",
       "      <td>0</td>\n",
       "      <td>0</td>\n",
       "      <td>0</td>\n",
       "      <td>0</td>\n",
       "      <td>0</td>\n",
       "      <td>0</td>\n",
       "      <td>0</td>\n",
       "      <td>0</td>\n",
       "      <td>0</td>\n",
       "    </tr>\n",
       "    <tr>\n",
       "      <th>2</th>\n",
       "      <td>2</td>\n",
       "      <td>62.0</td>\n",
       "      <td>0</td>\n",
       "      <td>0</td>\n",
       "      <td>9.6875</td>\n",
       "      <td>240276.0</td>\n",
       "      <td>0</td>\n",
       "      <td>0</td>\n",
       "      <td>0</td>\n",
       "      <td>0</td>\n",
       "      <td>...</td>\n",
       "      <td>0</td>\n",
       "      <td>0</td>\n",
       "      <td>0</td>\n",
       "      <td>0</td>\n",
       "      <td>0</td>\n",
       "      <td>0</td>\n",
       "      <td>0</td>\n",
       "      <td>0</td>\n",
       "      <td>0</td>\n",
       "      <td>0</td>\n",
       "    </tr>\n",
       "    <tr>\n",
       "      <th>3</th>\n",
       "      <td>3</td>\n",
       "      <td>27.0</td>\n",
       "      <td>0</td>\n",
       "      <td>0</td>\n",
       "      <td>8.6625</td>\n",
       "      <td>315154.0</td>\n",
       "      <td>0</td>\n",
       "      <td>0</td>\n",
       "      <td>0</td>\n",
       "      <td>0</td>\n",
       "      <td>...</td>\n",
       "      <td>0</td>\n",
       "      <td>0</td>\n",
       "      <td>0</td>\n",
       "      <td>0</td>\n",
       "      <td>0</td>\n",
       "      <td>0</td>\n",
       "      <td>0</td>\n",
       "      <td>0</td>\n",
       "      <td>0</td>\n",
       "      <td>0</td>\n",
       "    </tr>\n",
       "    <tr>\n",
       "      <th>4</th>\n",
       "      <td>3</td>\n",
       "      <td>22.0</td>\n",
       "      <td>1</td>\n",
       "      <td>1</td>\n",
       "      <td>12.2875</td>\n",
       "      <td>3101298.0</td>\n",
       "      <td>0</td>\n",
       "      <td>0</td>\n",
       "      <td>0</td>\n",
       "      <td>0</td>\n",
       "      <td>...</td>\n",
       "      <td>0</td>\n",
       "      <td>0</td>\n",
       "      <td>0</td>\n",
       "      <td>0</td>\n",
       "      <td>0</td>\n",
       "      <td>0</td>\n",
       "      <td>0</td>\n",
       "      <td>0</td>\n",
       "      <td>0</td>\n",
       "      <td>0</td>\n",
       "    </tr>\n",
       "  </tbody>\n",
       "</table>\n",
       "<p>5 rows × 47 columns</p>\n",
       "</div>"
      ],
      "text/plain": [
       "   Pclass   Age  SibSp  Parch     Fare  Ticket_Num  Cabin_Yes  Cabin_C  \\\n",
       "0       3  34.5      0      0   7.8292    330911.0          0        0   \n",
       "1       3  47.0      1      0   7.0000    363272.0          0        0   \n",
       "2       2  62.0      0      0   9.6875    240276.0          0        0   \n",
       "3       3  27.0      0      0   8.6625    315154.0          0        0   \n",
       "4       3  22.0      1      1  12.2875   3101298.0          0        0   \n",
       "\n",
       "   Cabin_A  Cabin_F        ...          Ticket_Prefix_SCParis  \\\n",
       "0        0        0        ...                              0   \n",
       "1        0        0        ...                              0   \n",
       "2        0        0        ...                              0   \n",
       "3        0        0        ...                              0   \n",
       "4        0        0        ...                              0   \n",
       "\n",
       "   Ticket_Prefix_SOC  Ticket_Prefix_SOPP  Ticket_Prefix_SOTONO2  \\\n",
       "0                  0                   0                      0   \n",
       "1                  0                   0                      0   \n",
       "2                  0                   0                      0   \n",
       "3                  0                   0                      0   \n",
       "4                  0                   0                      0   \n",
       "\n",
       "   Ticket_Prefix_SOTONOQ  Ticket_Prefix_STONO 2  Ticket_Prefix_STONO2  \\\n",
       "0                      0                      0                     0   \n",
       "1                      0                      0                     0   \n",
       "2                      0                      0                     0   \n",
       "3                      0                      0                     0   \n",
       "4                      0                      0                     0   \n",
       "\n",
       "   Ticket_Prefix_STONOQ  Ticket_Prefix_WC  Ticket_Prefix_WEP  \n",
       "0                     0                 0                  0  \n",
       "1                     0                 0                  0  \n",
       "2                     0                 0                  0  \n",
       "3                     0                 0                  0  \n",
       "4                     0                 0                  0  \n",
       "\n",
       "[5 rows x 47 columns]"
      ]
     },
     "execution_count": 57,
     "metadata": {},
     "output_type": "execute_result"
    }
   ],
   "source": [
    "test.head(5)"
   ]
  },
  {
   "cell_type": "markdown",
   "metadata": {},
   "source": [
    "### Data Preprocessing"
   ]
  },
  {
   "cell_type": "markdown",
   "metadata": {},
   "source": [
    "- Begin analysis by removing passengers with missing data\n",
    "- Uses median value data imputation strategy to fill in missing data\n"
   ]
  },
  {
   "cell_type": "code",
   "execution_count": 58,
   "metadata": {
    "collapsed": false
   },
   "outputs": [
    {
     "name": "stdout",
     "output_type": "stream",
     "text": [
      "The number of rows with missing values is 891\n",
      "The number of rows without missing values is 710\n"
     ]
    }
   ],
   "source": [
    "#Create dataframe with removed rows with null values\n",
    "print(\"The number of rows with missing values is\", train.shape[0])\n",
    "train_nona = train.dropna()\n",
    "print(\"The number of rows without missing values is\", train_nona.shape[0])"
   ]
  },
  {
   "cell_type": "code",
   "execution_count": 59,
   "metadata": {
    "collapsed": false
   },
   "outputs": [],
   "source": [
    "X = train_nona.iloc[:,1:]\n",
    "y = train_nona.Survived"
   ]
  },
  {
   "cell_type": "code",
   "execution_count": 73,
   "metadata": {
    "collapsed": true
   },
   "outputs": [],
   "source": [
    "#Imputation of missing values for training data\n",
    "imp_median = sklearn.preprocessing.Imputer(missing_values='NaN', strategy='median', axis=0)\n",
    "X_median = imp_median.fit_transform(train.iloc[:,1:])\n",
    "\n",
    "#Retrieve full y column for model fitting\n",
    "y_full = train.Survived"
   ]
  },
  {
   "cell_type": "markdown",
   "metadata": {},
   "source": [
    "### Logistic Regression"
   ]
  },
  {
   "cell_type": "markdown",
   "metadata": {},
   "source": [
    "#### Model Assumptions"
   ]
  },
  {
   "cell_type": "markdown",
   "metadata": {},
   "source": [
    "- Independent observations\n",
    "- Independent errors\n",
    "- Linear relationship between log-odds of the dependent variable and model features"
   ]
  },
  {
   "cell_type": "markdown",
   "metadata": {},
   "source": [
    "#### Model Fitting"
   ]
  },
  {
   "cell_type": "code",
   "execution_count": 9,
   "metadata": {
    "collapsed": true
   },
   "outputs": [],
   "source": [
    "log = sklearn.linear_model.LogisticRegression()\n",
    "log = log.fit(X,y)\n",
    "log_scores = sklearn.model_selection.cross_val_score(log, X, y, cv=10, scoring='accuracy')\n",
    "train_log_acc = log.score(X,y)\n",
    "cv_log_acc = log_scores.mean()"
   ]
  },
  {
   "cell_type": "markdown",
   "metadata": {},
   "source": [
    "#### Cross-validation and Feature Selection"
   ]
  },
  {
   "cell_type": "code",
   "execution_count": 10,
   "metadata": {
    "collapsed": false
   },
   "outputs": [],
   "source": [
    "log_cv = sklearn.linear_model.LogisticRegressionCV(cv = 10, solver =\"liblinear\", penalty = \"l1\", random_state = 100)\n",
    "log_cv = log_cv.fit(X, y)\n",
    "#C_ stores the inverse of the regularization parameter\n",
    "C = float((log_cv.C_)**-1)\n",
    "\n",
    "#Got this warning: Warning: The least populated class in y has only 289 members, which is too few. The minimum number of labels for any class cannot be less than n_folds=710."
   ]
  },
  {
   "cell_type": "code",
   "execution_count": 11,
   "metadata": {
    "collapsed": false
   },
   "outputs": [],
   "source": [
    "# Subsampling and fitting a L1-penalized logsitic regression model using lambda (C) from previous CV model\n",
    "# Assessing correspondence between features selected from CV L1 model and percentage of time that feature is selected when repeatedly sampling with same C penalty\n",
    "log_rand = sklearn.linear_model.RandomizedLogisticRegression(C = C, n_resampling=200, random_state = 100)\n",
    "log_rand = log_rand.fit(X, y)"
   ]
  },
  {
   "cell_type": "code",
   "execution_count": 12,
   "metadata": {
    "collapsed": false
   },
   "outputs": [
    {
     "data": {
      "text/html": [
       "<div>\n",
       "<style>\n",
       "    .dataframe thead tr:only-child th {\n",
       "        text-align: right;\n",
       "    }\n",
       "\n",
       "    .dataframe thead th {\n",
       "        text-align: left;\n",
       "    }\n",
       "\n",
       "    .dataframe tbody tr th {\n",
       "        vertical-align: top;\n",
       "    }\n",
       "</style>\n",
       "<table border=\"1\" class=\"dataframe\">\n",
       "  <thead>\n",
       "    <tr style=\"text-align: right;\">\n",
       "      <th></th>\n",
       "      <th>Feature</th>\n",
       "      <th>LogReg</th>\n",
       "      <th>L1Penalty</th>\n",
       "      <th>RandomScore</th>\n",
       "    </tr>\n",
       "  </thead>\n",
       "  <tbody>\n",
       "    <tr>\n",
       "      <th>0</th>\n",
       "      <td>Pclass</td>\n",
       "      <td>[-0.000683696137035]</td>\n",
       "      <td>[-0.752084771567]</td>\n",
       "      <td>1.000</td>\n",
       "    </tr>\n",
       "    <tr>\n",
       "      <th>1</th>\n",
       "      <td>Age</td>\n",
       "      <td>[-0.00668949649784]</td>\n",
       "      <td>[-0.0316193671789]</td>\n",
       "      <td>1.000</td>\n",
       "    </tr>\n",
       "    <tr>\n",
       "      <th>2</th>\n",
       "      <td>SibSp</td>\n",
       "      <td>[-0.000101374230163]</td>\n",
       "      <td>[-0.282473243547]</td>\n",
       "      <td>0.610</td>\n",
       "    </tr>\n",
       "    <tr>\n",
       "      <th>3</th>\n",
       "      <td>Parch</td>\n",
       "      <td>[1.29228868844e-05]</td>\n",
       "      <td>[-0.0399485205897]</td>\n",
       "      <td>0.085</td>\n",
       "    </tr>\n",
       "    <tr>\n",
       "      <th>4</th>\n",
       "      <td>Fare</td>\n",
       "      <td>[0.00761774935147]</td>\n",
       "      <td>[0.00357124060763]</td>\n",
       "      <td>0.375</td>\n",
       "    </tr>\n",
       "    <tr>\n",
       "      <th>5</th>\n",
       "      <td>Ticket_Num</td>\n",
       "      <td>[-4.89524533038e-07]</td>\n",
       "      <td>[1.33760647899e-07]</td>\n",
       "      <td>0.005</td>\n",
       "    </tr>\n",
       "    <tr>\n",
       "      <th>6</th>\n",
       "      <td>Cabin_Yes</td>\n",
       "      <td>[0.00011009679806]</td>\n",
       "      <td>[0.640287078821]</td>\n",
       "      <td>0.670</td>\n",
       "    </tr>\n",
       "    <tr>\n",
       "      <th>7</th>\n",
       "      <td>Cabin_C</td>\n",
       "      <td>[1.08637345725e-05]</td>\n",
       "      <td>[-0.33203522908]</td>\n",
       "      <td>0.180</td>\n",
       "    </tr>\n",
       "    <tr>\n",
       "      <th>8</th>\n",
       "      <td>Cabin_A</td>\n",
       "      <td>[3.7557589563e-06]</td>\n",
       "      <td>[0.0]</td>\n",
       "      <td>0.220</td>\n",
       "    </tr>\n",
       "    <tr>\n",
       "      <th>9</th>\n",
       "      <td>Cabin_F</td>\n",
       "      <td>[6.72786057955e-06]</td>\n",
       "      <td>[0.0]</td>\n",
       "      <td>0.410</td>\n",
       "    </tr>\n",
       "    <tr>\n",
       "      <th>10</th>\n",
       "      <td>Cabin_G</td>\n",
       "      <td>[-4.75243560017e-06]</td>\n",
       "      <td>[0.0]</td>\n",
       "      <td>0.350</td>\n",
       "    </tr>\n",
       "    <tr>\n",
       "      <th>11</th>\n",
       "      <td>Cabin_T</td>\n",
       "      <td>[-1.8365566451e-06]</td>\n",
       "      <td>[0.0]</td>\n",
       "      <td>0.220</td>\n",
       "    </tr>\n",
       "    <tr>\n",
       "      <th>12</th>\n",
       "      <td>Cabin_E</td>\n",
       "      <td>[2.621623929e-05]</td>\n",
       "      <td>[0.280096501905]</td>\n",
       "      <td>0.720</td>\n",
       "    </tr>\n",
       "    <tr>\n",
       "      <th>13</th>\n",
       "      <td>Cabin_B</td>\n",
       "      <td>[3.71745538611e-05]</td>\n",
       "      <td>[0.0]</td>\n",
       "      <td>0.175</td>\n",
       "    </tr>\n",
       "    <tr>\n",
       "      <th>14</th>\n",
       "      <td>Cabin_D</td>\n",
       "      <td>[2.68766142511e-05]</td>\n",
       "      <td>[0.0]</td>\n",
       "      <td>0.235</td>\n",
       "    </tr>\n",
       "    <tr>\n",
       "      <th>15</th>\n",
       "      <td>female</td>\n",
       "      <td>[0.000264745518938]</td>\n",
       "      <td>[2.49023794221]</td>\n",
       "      <td>0.765</td>\n",
       "    </tr>\n",
       "    <tr>\n",
       "      <th>16</th>\n",
       "      <td>male</td>\n",
       "      <td>[-0.000432081005335]</td>\n",
       "      <td>[0.0]</td>\n",
       "      <td>0.715</td>\n",
       "    </tr>\n",
       "    <tr>\n",
       "      <th>17</th>\n",
       "      <td>Embarked_C</td>\n",
       "      <td>[4.39772384599e-05]</td>\n",
       "      <td>[0.332393548351]</td>\n",
       "      <td>0.610</td>\n",
       "    </tr>\n",
       "    <tr>\n",
       "      <th>18</th>\n",
       "      <td>Embarked_Q</td>\n",
       "      <td>[-1.85505375025e-05]</td>\n",
       "      <td>[0.0]</td>\n",
       "      <td>0.135</td>\n",
       "    </tr>\n",
       "    <tr>\n",
       "      <th>19</th>\n",
       "      <td>Embarked_S</td>\n",
       "      <td>[-0.000196456927872]</td>\n",
       "      <td>[0.0]</td>\n",
       "      <td>0.265</td>\n",
       "    </tr>\n",
       "    <tr>\n",
       "      <th>20</th>\n",
       "      <td>Ticket_Prefix_</td>\n",
       "      <td>[-0.000145541459383]</td>\n",
       "      <td>[0.0]</td>\n",
       "      <td>0.070</td>\n",
       "    </tr>\n",
       "    <tr>\n",
       "      <th>21</th>\n",
       "      <td>Ticket_Prefix_A4</td>\n",
       "      <td>[-9.28681517737e-06]</td>\n",
       "      <td>[0.0]</td>\n",
       "      <td>0.000</td>\n",
       "    </tr>\n",
       "    <tr>\n",
       "      <th>22</th>\n",
       "      <td>Ticket_Prefix_A5</td>\n",
       "      <td>[-2.5923623938e-05]</td>\n",
       "      <td>[0.0]</td>\n",
       "      <td>0.100</td>\n",
       "    </tr>\n",
       "    <tr>\n",
       "      <th>23</th>\n",
       "      <td>Ticket_Prefix_AS</td>\n",
       "      <td>[0.0]</td>\n",
       "      <td>[0.0]</td>\n",
       "      <td>0.000</td>\n",
       "    </tr>\n",
       "    <tr>\n",
       "      <th>24</th>\n",
       "      <td>Ticket_Prefix_C</td>\n",
       "      <td>[-1.79158313391e-06]</td>\n",
       "      <td>[0.0]</td>\n",
       "      <td>0.270</td>\n",
       "    </tr>\n",
       "    <tr>\n",
       "      <th>25</th>\n",
       "      <td>Ticket_Prefix_CA</td>\n",
       "      <td>[-9.5190153916e-06]</td>\n",
       "      <td>[0.0915426211386]</td>\n",
       "      <td>0.145</td>\n",
       "    </tr>\n",
       "    <tr>\n",
       "      <th>26</th>\n",
       "      <td>Ticket_Prefix_CASOTON</td>\n",
       "      <td>[-1.85010670279e-06]</td>\n",
       "      <td>[0.0]</td>\n",
       "      <td>0.000</td>\n",
       "    </tr>\n",
       "    <tr>\n",
       "      <th>27</th>\n",
       "      <td>Ticket_Prefix_FC</td>\n",
       "      <td>[-1.92896145733e-06]</td>\n",
       "      <td>[0.0]</td>\n",
       "      <td>0.335</td>\n",
       "    </tr>\n",
       "    <tr>\n",
       "      <th>28</th>\n",
       "      <td>Ticket_Prefix_FCC</td>\n",
       "      <td>[5.6621530534e-06]</td>\n",
       "      <td>[0.0]</td>\n",
       "      <td>0.235</td>\n",
       "    </tr>\n",
       "    <tr>\n",
       "      <th>29</th>\n",
       "      <td>Ticket_Prefix_Fa</td>\n",
       "      <td>[0.0]</td>\n",
       "      <td>[0.0]</td>\n",
       "      <td>0.000</td>\n",
       "    </tr>\n",
       "    <tr>\n",
       "      <th>30</th>\n",
       "      <td>Ticket_Prefix_LINE</td>\n",
       "      <td>[0.0]</td>\n",
       "      <td>[0.0]</td>\n",
       "      <td>0.000</td>\n",
       "    </tr>\n",
       "    <tr>\n",
       "      <th>31</th>\n",
       "      <td>Ticket_Prefix_PC</td>\n",
       "      <td>[2.92898127678e-05]</td>\n",
       "      <td>[0.0]</td>\n",
       "      <td>0.100</td>\n",
       "    </tr>\n",
       "    <tr>\n",
       "      <th>32</th>\n",
       "      <td>Ticket_Prefix_PP</td>\n",
       "      <td>[1.86797628281e-06]</td>\n",
       "      <td>[0.0]</td>\n",
       "      <td>0.065</td>\n",
       "    </tr>\n",
       "    <tr>\n",
       "      <th>33</th>\n",
       "      <td>Ticket_Prefix_PPP</td>\n",
       "      <td>[-1.9430886457e-08]</td>\n",
       "      <td>[0.0]</td>\n",
       "      <td>0.000</td>\n",
       "    </tr>\n",
       "    <tr>\n",
       "      <th>34</th>\n",
       "      <td>Ticket_Prefix_SC</td>\n",
       "      <td>[1.87554744216e-06]</td>\n",
       "      <td>[0.0]</td>\n",
       "      <td>0.000</td>\n",
       "    </tr>\n",
       "    <tr>\n",
       "      <th>35</th>\n",
       "      <td>Ticket_Prefix_SCA4</td>\n",
       "      <td>[0.0]</td>\n",
       "      <td>[0.0]</td>\n",
       "      <td>0.000</td>\n",
       "    </tr>\n",
       "    <tr>\n",
       "      <th>36</th>\n",
       "      <td>Ticket_Prefix_SCAH</td>\n",
       "      <td>[7.70140239993e-09]</td>\n",
       "      <td>[0.0]</td>\n",
       "      <td>0.000</td>\n",
       "    </tr>\n",
       "    <tr>\n",
       "      <th>37</th>\n",
       "      <td>Ticket_Prefix_SCAH Basle</td>\n",
       "      <td>[1.87797363152e-06]</td>\n",
       "      <td>[0.0]</td>\n",
       "      <td>0.000</td>\n",
       "    </tr>\n",
       "    <tr>\n",
       "      <th>38</th>\n",
       "      <td>Ticket_Prefix_SCOW</td>\n",
       "      <td>[-1.86405310419e-06]</td>\n",
       "      <td>[0.0]</td>\n",
       "      <td>0.000</td>\n",
       "    </tr>\n",
       "    <tr>\n",
       "      <th>39</th>\n",
       "      <td>Ticket_Prefix_SCPARIS</td>\n",
       "      <td>[-1.98225856317e-06]</td>\n",
       "      <td>[0.0]</td>\n",
       "      <td>0.000</td>\n",
       "    </tr>\n",
       "    <tr>\n",
       "      <th>40</th>\n",
       "      <td>Ticket_Prefix_SCParis</td>\n",
       "      <td>[-1.43452732335e-07]</td>\n",
       "      <td>[0.0]</td>\n",
       "      <td>0.000</td>\n",
       "    </tr>\n",
       "    <tr>\n",
       "      <th>41</th>\n",
       "      <td>Ticket_Prefix_SOC</td>\n",
       "      <td>[-7.9782830333e-06]</td>\n",
       "      <td>[0.0]</td>\n",
       "      <td>0.165</td>\n",
       "    </tr>\n",
       "    <tr>\n",
       "      <th>42</th>\n",
       "      <td>Ticket_Prefix_SOP</td>\n",
       "      <td>[-1.84631995928e-06]</td>\n",
       "      <td>[0.0]</td>\n",
       "      <td>0.000</td>\n",
       "    </tr>\n",
       "    <tr>\n",
       "      <th>43</th>\n",
       "      <td>Ticket_Prefix_SOPP</td>\n",
       "      <td>[-3.71656526937e-06]</td>\n",
       "      <td>[0.0]</td>\n",
       "      <td>0.475</td>\n",
       "    </tr>\n",
       "    <tr>\n",
       "      <th>44</th>\n",
       "      <td>Ticket_Prefix_SOTONO2</td>\n",
       "      <td>[-1.21317975101e-06]</td>\n",
       "      <td>[0.0]</td>\n",
       "      <td>0.000</td>\n",
       "    </tr>\n",
       "    <tr>\n",
       "      <th>45</th>\n",
       "      <td>Ticket_Prefix_SOTONOQ</td>\n",
       "      <td>[-2.82540501499e-06]</td>\n",
       "      <td>[0.0]</td>\n",
       "      <td>0.025</td>\n",
       "    </tr>\n",
       "    <tr>\n",
       "      <th>46</th>\n",
       "      <td>Ticket_Prefix_SP</td>\n",
       "      <td>[-1.8702343337e-06]</td>\n",
       "      <td>[0.0]</td>\n",
       "      <td>0.000</td>\n",
       "    </tr>\n",
       "    <tr>\n",
       "      <th>47</th>\n",
       "      <td>Ticket_Prefix_STONO 2</td>\n",
       "      <td>[1.14854903512e-05]</td>\n",
       "      <td>[0.275137415332]</td>\n",
       "      <td>0.795</td>\n",
       "    </tr>\n",
       "    <tr>\n",
       "      <th>48</th>\n",
       "      <td>Ticket_Prefix_STONO2</td>\n",
       "      <td>[7.59324878352e-06]</td>\n",
       "      <td>[0.0]</td>\n",
       "      <td>0.030</td>\n",
       "    </tr>\n",
       "    <tr>\n",
       "      <th>49</th>\n",
       "      <td>Ticket_Prefix_SWPP</td>\n",
       "      <td>[3.80353507015e-06]</td>\n",
       "      <td>[0.0]</td>\n",
       "      <td>0.770</td>\n",
       "    </tr>\n",
       "    <tr>\n",
       "      <th>50</th>\n",
       "      <td>Ticket_Prefix_WC</td>\n",
       "      <td>[-9.43552887797e-06]</td>\n",
       "      <td>[0.0]</td>\n",
       "      <td>0.465</td>\n",
       "    </tr>\n",
       "    <tr>\n",
       "      <th>51</th>\n",
       "      <td>Ticket_Prefix_WEP</td>\n",
       "      <td>[-2.0626484723e-06]</td>\n",
       "      <td>[0.0]</td>\n",
       "      <td>0.130</td>\n",
       "    </tr>\n",
       "  </tbody>\n",
       "</table>\n",
       "</div>"
      ],
      "text/plain": [
       "                     Feature                LogReg            L1Penalty  \\\n",
       "0                     Pclass  [-0.000683696137035]    [-0.752084771567]   \n",
       "1                        Age   [-0.00668949649784]   [-0.0316193671789]   \n",
       "2                      SibSp  [-0.000101374230163]    [-0.282473243547]   \n",
       "3                      Parch   [1.29228868844e-05]   [-0.0399485205897]   \n",
       "4                       Fare    [0.00761774935147]   [0.00357124060763]   \n",
       "5                 Ticket_Num  [-4.89524533038e-07]  [1.33760647899e-07]   \n",
       "6                  Cabin_Yes    [0.00011009679806]     [0.640287078821]   \n",
       "7                    Cabin_C   [1.08637345725e-05]     [-0.33203522908]   \n",
       "8                    Cabin_A    [3.7557589563e-06]                [0.0]   \n",
       "9                    Cabin_F   [6.72786057955e-06]                [0.0]   \n",
       "10                   Cabin_G  [-4.75243560017e-06]                [0.0]   \n",
       "11                   Cabin_T   [-1.8365566451e-06]                [0.0]   \n",
       "12                   Cabin_E     [2.621623929e-05]     [0.280096501905]   \n",
       "13                   Cabin_B   [3.71745538611e-05]                [0.0]   \n",
       "14                   Cabin_D   [2.68766142511e-05]                [0.0]   \n",
       "15                    female   [0.000264745518938]      [2.49023794221]   \n",
       "16                      male  [-0.000432081005335]                [0.0]   \n",
       "17                Embarked_C   [4.39772384599e-05]     [0.332393548351]   \n",
       "18                Embarked_Q  [-1.85505375025e-05]                [0.0]   \n",
       "19                Embarked_S  [-0.000196456927872]                [0.0]   \n",
       "20            Ticket_Prefix_  [-0.000145541459383]                [0.0]   \n",
       "21          Ticket_Prefix_A4  [-9.28681517737e-06]                [0.0]   \n",
       "22          Ticket_Prefix_A5   [-2.5923623938e-05]                [0.0]   \n",
       "23          Ticket_Prefix_AS                 [0.0]                [0.0]   \n",
       "24           Ticket_Prefix_C  [-1.79158313391e-06]                [0.0]   \n",
       "25          Ticket_Prefix_CA   [-9.5190153916e-06]    [0.0915426211386]   \n",
       "26     Ticket_Prefix_CASOTON  [-1.85010670279e-06]                [0.0]   \n",
       "27          Ticket_Prefix_FC  [-1.92896145733e-06]                [0.0]   \n",
       "28         Ticket_Prefix_FCC    [5.6621530534e-06]                [0.0]   \n",
       "29          Ticket_Prefix_Fa                 [0.0]                [0.0]   \n",
       "30        Ticket_Prefix_LINE                 [0.0]                [0.0]   \n",
       "31          Ticket_Prefix_PC   [2.92898127678e-05]                [0.0]   \n",
       "32          Ticket_Prefix_PP   [1.86797628281e-06]                [0.0]   \n",
       "33         Ticket_Prefix_PPP   [-1.9430886457e-08]                [0.0]   \n",
       "34          Ticket_Prefix_SC   [1.87554744216e-06]                [0.0]   \n",
       "35        Ticket_Prefix_SCA4                 [0.0]                [0.0]   \n",
       "36        Ticket_Prefix_SCAH   [7.70140239993e-09]                [0.0]   \n",
       "37  Ticket_Prefix_SCAH Basle   [1.87797363152e-06]                [0.0]   \n",
       "38        Ticket_Prefix_SCOW  [-1.86405310419e-06]                [0.0]   \n",
       "39     Ticket_Prefix_SCPARIS  [-1.98225856317e-06]                [0.0]   \n",
       "40     Ticket_Prefix_SCParis  [-1.43452732335e-07]                [0.0]   \n",
       "41         Ticket_Prefix_SOC   [-7.9782830333e-06]                [0.0]   \n",
       "42         Ticket_Prefix_SOP  [-1.84631995928e-06]                [0.0]   \n",
       "43        Ticket_Prefix_SOPP  [-3.71656526937e-06]                [0.0]   \n",
       "44     Ticket_Prefix_SOTONO2  [-1.21317975101e-06]                [0.0]   \n",
       "45     Ticket_Prefix_SOTONOQ  [-2.82540501499e-06]                [0.0]   \n",
       "46          Ticket_Prefix_SP   [-1.8702343337e-06]                [0.0]   \n",
       "47     Ticket_Prefix_STONO 2   [1.14854903512e-05]     [0.275137415332]   \n",
       "48      Ticket_Prefix_STONO2   [7.59324878352e-06]                [0.0]   \n",
       "49        Ticket_Prefix_SWPP   [3.80353507015e-06]                [0.0]   \n",
       "50          Ticket_Prefix_WC  [-9.43552887797e-06]                [0.0]   \n",
       "51         Ticket_Prefix_WEP   [-2.0626484723e-06]                [0.0]   \n",
       "\n",
       "    RandomScore  \n",
       "0         1.000  \n",
       "1         1.000  \n",
       "2         0.610  \n",
       "3         0.085  \n",
       "4         0.375  \n",
       "5         0.005  \n",
       "6         0.670  \n",
       "7         0.180  \n",
       "8         0.220  \n",
       "9         0.410  \n",
       "10        0.350  \n",
       "11        0.220  \n",
       "12        0.720  \n",
       "13        0.175  \n",
       "14        0.235  \n",
       "15        0.765  \n",
       "16        0.715  \n",
       "17        0.610  \n",
       "18        0.135  \n",
       "19        0.265  \n",
       "20        0.070  \n",
       "21        0.000  \n",
       "22        0.100  \n",
       "23        0.000  \n",
       "24        0.270  \n",
       "25        0.145  \n",
       "26        0.000  \n",
       "27        0.335  \n",
       "28        0.235  \n",
       "29        0.000  \n",
       "30        0.000  \n",
       "31        0.100  \n",
       "32        0.065  \n",
       "33        0.000  \n",
       "34        0.000  \n",
       "35        0.000  \n",
       "36        0.000  \n",
       "37        0.000  \n",
       "38        0.000  \n",
       "39        0.000  \n",
       "40        0.000  \n",
       "41        0.165  \n",
       "42        0.000  \n",
       "43        0.475  \n",
       "44        0.000  \n",
       "45        0.025  \n",
       "46        0.000  \n",
       "47        0.795  \n",
       "48        0.030  \n",
       "49        0.770  \n",
       "50        0.465  \n",
       "51        0.130  "
      ]
     },
     "execution_count": 12,
     "metadata": {},
     "output_type": "execute_result"
    }
   ],
   "source": [
    "#Table of feature selection diagnostics\n",
    "pd.DataFrame(list(zip(X.columns, \n",
    "                      np.transpose(log.coef_),\n",
    "                      np.transpose(log_cv.coef_),\n",
    "                      np.transpose(log_rand.scores_))),columns=[\"Feature\",\"LogReg\", \"L1Penalty\", \"RandomScore\",])"
   ]
  },
  {
   "cell_type": "code",
   "execution_count": 13,
   "metadata": {
    "collapsed": false
   },
   "outputs": [],
   "source": [
    "#Retrieve mean CV prediction accuracy using L1 penalty logistic regression model\n",
    "log_l1 = sklearn.linear_model.LogisticRegression(penalty = 'l1', C = C**-1)\n",
    "log_l1_scores = sklearn.model_selection.cross_val_score(log_l1, X, y, cv=10, scoring='accuracy')\n",
    "log_l1 = log_l1.fit(X,y)\n",
    "train_log_l1_acc = log_l1.score(X,y)\n",
    "cv_log_l1_acc = log_l1_scores.mean()"
   ]
  },
  {
   "cell_type": "markdown",
   "metadata": {},
   "source": [
    "### K Nearest Neighbors"
   ]
  },
  {
   "cell_type": "markdown",
   "metadata": {},
   "source": [
    "#### Model assumptions\n",
    "\n",
    "- Nonparametric statistical model\n",
    "- Data is in metric space\n",
    "- Minkowski distance metric (generalized Euclidean space)"
   ]
  },
  {
   "cell_type": "markdown",
   "metadata": {},
   "source": [
    "#### Cross-validation"
   ]
  },
  {
   "cell_type": "code",
   "execution_count": 14,
   "metadata": {
    "collapsed": false
   },
   "outputs": [],
   "source": [
    "# List of 50 integers for K\n",
    "neighbors = list(range(1,50))\n",
    "\n",
    "#Cross-validation scores for each K \n",
    "knn_cv_scores = []\n",
    "\n",
    "# 10-Fold cross validation and store average CV prediction accuracy score\n",
    "for K in neighbors:\n",
    "    knn = sklearn.neighbors.KNeighborsClassifier(n_neighbors= K)\n",
    "    scores = sklearn.model_selection.cross_val_score(knn, X, y, cv=10, scoring='accuracy')\n",
    "    knn_cv_scores.append(scores.mean())"
   ]
  },
  {
   "cell_type": "code",
   "execution_count": 15,
   "metadata": {
    "collapsed": false
   },
   "outputs": [
    {
     "data": {
      "image/png": "[encoded data removed]",
      "text/plain": [
       "<matplotlib.figure.Figure at 0xb506438>"
      ]
     },
     "metadata": {},
     "output_type": "display_data"
    }
   ],
   "source": [
    "plt.plot(neighbors,knn_cv_scores)\n",
    "plt.title(\"KNN Mean Cross-validated Prediction Accuracy Based on K\")\n",
    "plt.xlabel('K')\n",
    "plt.ylabel('Prediction Accuracy')\n",
    "plt.show()"
   ]
  },
  {
   "cell_type": "markdown",
   "metadata": {},
   "source": [
    "#### Model Fitting"
   ]
  },
  {
   "cell_type": "code",
   "execution_count": 16,
   "metadata": {
    "collapsed": false
   },
   "outputs": [],
   "source": [
    "#We oberserve that 5 is the optimal K\n",
    "#Conduct ten-fold cross validation\n",
    "knn = sklearn.neighbors.KNeighborsClassifier(n_neighbors=5)\n",
    "knn_scores = sklearn.model_selection.cross_val_score(knn, X, y, cv=10, scoring='accuracy')\n",
    "knn = knn.fit(X,y)\n",
    "train_knn_acc = knn.score(X,y)\n",
    "cv_knn_acc = knn_scores.mean()"
   ]
  },
  {
   "cell_type": "markdown",
   "metadata": {},
   "source": [
    "### Linear Support Vector Classification"
   ]
  },
  {
   "cell_type": "markdown",
   "metadata": {},
   "source": [
    "#### Model Assumptions"
   ]
  },
  {
   "cell_type": "markdown",
   "metadata": {},
   "source": [
    "#### Cross-validation and Model Fitting"
   ]
  },
  {
   "cell_type": "code",
   "execution_count": 17,
   "metadata": {
    "collapsed": true
   },
   "outputs": [],
   "source": [
    "#Ten-fold cross-validation with \n",
    "lsvc = sklearn.svm.LinearSVC(penalty='l2', random_state = 100)\n",
    "lsvc_scores = sklearn.model_selection.cross_val_score(lsvc, X, y, cv=10, scoring='accuracy')\n",
    "lsvc = lsvc.fit(X,y)\n",
    "train_lsvc_acc = lsvc.score(X,y)\n",
    "cv_lsvc_acc = lsvc_scores.mean()"
   ]
  },
  {
   "cell_type": "code",
   "execution_count": 18,
   "metadata": {
    "collapsed": true
   },
   "outputs": [],
   "source": [
    "#Ten fold cross validation with\n",
    "svcrbf = sklearn.svm.SVC(kernel='rbf')\n",
    "svcrbf_scores = sklearn.model_selection.cross_val_score(svcrbf, X, y, cv=10, scoring='accuracy')\n",
    "svcrbf = svcrbf.fit(X,y)\n",
    "train_svcrbf_acc = svcrbf.score(X,y)\n",
    "cv_svcrbf_acc = svcrbf_scores.mean()"
   ]
  },
  {
   "cell_type": "markdown",
   "metadata": {},
   "source": [
    "### Gaussian Naive Bayes"
   ]
  },
  {
   "cell_type": "markdown",
   "metadata": {},
   "source": [
    "#### Model Assumptions\n",
    "\n",
    "- Normally distributed features\n",
    "- Features are independent for a given class"
   ]
  },
  {
   "cell_type": "markdown",
   "metadata": {},
   "source": [
    "#### Cross-validation and Model Fitting"
   ]
  },
  {
   "cell_type": "code",
   "execution_count": 19,
   "metadata": {
    "collapsed": false
   },
   "outputs": [],
   "source": [
    "prior = np.array([0.5,0.5])\n",
    "gnb = sklearn.naive_bayes.GaussianNB(priors = prior) #Prior asserts 50-50 chance of survival\n",
    "gnb_scores = sklearn.model_selection.cross_val_score(gnb, X, y, cv=10, scoring='accuracy')\n",
    "gnb = gnb.fit(X,y)\n",
    "train_gnb_acc = gnb.score(X,y)\n",
    "cv_gnb_acc = gnb_scores.mean()"
   ]
  },
  {
   "cell_type": "markdown",
   "metadata": {},
   "source": [
    "### Random Forest"
   ]
  },
  {
   "cell_type": "markdown",
   "metadata": {},
   "source": [
    "#### Model Assumptions"
   ]
  },
  {
   "cell_type": "markdown",
   "metadata": {},
   "source": [
    "####  Model Fitting"
   ]
  },
  {
   "cell_type": "code",
   "execution_count": 38,
   "metadata": {
    "collapsed": false
   },
   "outputs": [],
   "source": [
    "rf = sklearn.ensemble.RandomForestClassifier(n_estimators=100, max_features=\"sqrt\", random_state = 100)\n",
    "rf_scores = sklearn.model_selection.cross_val_score(rf, X, y, cv=10, scoring='accuracy')\n",
    "rf = rf.fit(X,y)\n",
    "train_rf_acc = rf.score(X,y)\n",
    "cv_rf_acc = rf_scores.mean()"
   ]
  },
  {
   "cell_type": "markdown",
   "metadata": {},
   "source": [
    "### Extremely Randomized Trees"
   ]
  },
  {
   "cell_type": "markdown",
   "metadata": {},
   "source": [
    "#### Model Assumptions"
   ]
  },
  {
   "cell_type": "markdown",
   "metadata": {},
   "source": [
    "#### Model Fitting"
   ]
  },
  {
   "cell_type": "code",
   "execution_count": 81,
   "metadata": {
    "collapsed": true
   },
   "outputs": [],
   "source": [
    "ert = sklearn.ensemble.ExtraTreesClassifier(n_estimators=100, max_features=\"sqrt\", random_state = 100)\n",
    "ert_scores = sklearn.model_selection.cross_val_score(ert, X, y, cv=10, scoring='accuracy')\n",
    "ert = ert.fit(X,y)\n",
    "train_ert_acc = ert.score(X,y)\n",
    "cv_ert_acc = ert_scores.mean()"
   ]
  },
  {
   "cell_type": "markdown",
   "metadata": {},
   "source": [
    "### AdaBoost"
   ]
  },
  {
   "cell_type": "markdown",
   "metadata": {},
   "source": [
    "#### Model Assumptions"
   ]
  },
  {
   "cell_type": "markdown",
   "metadata": {},
   "source": [
    "#### Model Fitting"
   ]
  },
  {
   "cell_type": "code",
   "execution_count": 40,
   "metadata": {
    "collapsed": false
   },
   "outputs": [],
   "source": [
    "ab = sklearn.ensemble.AdaBoostClassifier(n_estimators=100, random_state = 100)\n",
    "ab_scores = sklearn.model_selection.cross_val_score(ab, X, y, cv=10, scoring='accuracy')\n",
    "ab = ab.fit(X,y)\n",
    "train_ab_acc = ab.score(X,y)\n",
    "cv_ab_acc = ab_scores.mean()"
   ]
  },
  {
   "cell_type": "markdown",
   "metadata": {},
   "source": [
    "### Gradient Boosting Classifier"
   ]
  },
  {
   "cell_type": "code",
   "execution_count": 85,
   "metadata": {
    "collapsed": true
   },
   "outputs": [],
   "source": [
    "gbc = sklearn.ensemble.GradientBoostingClassifier(n_estimators=100, random_state = 100)\n",
    "gbc_scores = sklearn.model_selection.cross_val_score(gbc, X, y, cv=10, scoring='accuracy')\n",
    "gbc = gbc.fit(X,y)\n",
    "train_gbc_acc = gbc.score(X,y)\n",
    "cv_gbc_acc = gbc_scores.mean()"
   ]
  },
  {
   "cell_type": "markdown",
   "metadata": {},
   "source": [
    "### Prediction Accuracy Table"
   ]
  },
  {
   "cell_type": "code",
   "execution_count": 86,
   "metadata": {
    "collapsed": false
   },
   "outputs": [
    {
     "data": {
      "text/html": [
       "<div>\n",
       "<style>\n",
       "    .dataframe thead tr:only-child th {\n",
       "        text-align: right;\n",
       "    }\n",
       "\n",
       "    .dataframe thead th {\n",
       "        text-align: left;\n",
       "    }\n",
       "\n",
       "    .dataframe tbody tr th {\n",
       "        vertical-align: top;\n",
       "    }\n",
       "</style>\n",
       "<table border=\"1\" class=\"dataframe\">\n",
       "  <thead>\n",
       "    <tr style=\"text-align: right;\">\n",
       "      <th></th>\n",
       "      <th>Model</th>\n",
       "      <th>Train Accuracy</th>\n",
       "      <th>Mean CV Accuracy</th>\n",
       "    </tr>\n",
       "  </thead>\n",
       "  <tbody>\n",
       "    <tr>\n",
       "      <th>0</th>\n",
       "      <td>Logistic Regression</td>\n",
       "      <td>0.697183</td>\n",
       "      <td>0.686019</td>\n",
       "    </tr>\n",
       "    <tr>\n",
       "      <th>1</th>\n",
       "      <td>Logistic Regression L1</td>\n",
       "      <td>0.797183</td>\n",
       "      <td>0.784558</td>\n",
       "    </tr>\n",
       "    <tr>\n",
       "      <th>2</th>\n",
       "      <td>KNN</td>\n",
       "      <td>0.774648</td>\n",
       "      <td>0.686021</td>\n",
       "    </tr>\n",
       "    <tr>\n",
       "      <th>3</th>\n",
       "      <td>Linear Support Vector</td>\n",
       "      <td>0.567606</td>\n",
       "      <td>0.515637</td>\n",
       "    </tr>\n",
       "    <tr>\n",
       "      <th>4</th>\n",
       "      <td>RBF Support Vector</td>\n",
       "      <td>0.961972</td>\n",
       "      <td>0.649382</td>\n",
       "    </tr>\n",
       "    <tr>\n",
       "      <th>5</th>\n",
       "      <td>Gaussian Naive Bayes</td>\n",
       "      <td>0.660563</td>\n",
       "      <td>0.663485</td>\n",
       "    </tr>\n",
       "    <tr>\n",
       "      <th>6</th>\n",
       "      <td>Random Forest</td>\n",
       "      <td>1.000000</td>\n",
       "      <td>0.821239</td>\n",
       "    </tr>\n",
       "    <tr>\n",
       "      <th>7</th>\n",
       "      <td>Extremely Randomized Trees</td>\n",
       "      <td>1.000000</td>\n",
       "      <td>0.801539</td>\n",
       "    </tr>\n",
       "    <tr>\n",
       "      <th>8</th>\n",
       "      <td>Adaboost</td>\n",
       "      <td>0.873239</td>\n",
       "      <td>0.802948</td>\n",
       "    </tr>\n",
       "    <tr>\n",
       "      <th>9</th>\n",
       "      <td>Gradient Boosting Classifier</td>\n",
       "      <td>0.912676</td>\n",
       "      <td>0.831078</td>\n",
       "    </tr>\n",
       "  </tbody>\n",
       "</table>\n",
       "</div>"
      ],
      "text/plain": [
       "                          Model  Train Accuracy  Mean CV Accuracy\n",
       "0           Logistic Regression        0.697183          0.686019\n",
       "1        Logistic Regression L1        0.797183          0.784558\n",
       "2                           KNN        0.774648          0.686021\n",
       "3         Linear Support Vector        0.567606          0.515637\n",
       "4            RBF Support Vector        0.961972          0.649382\n",
       "5          Gaussian Naive Bayes        0.660563          0.663485\n",
       "6                 Random Forest        1.000000          0.821239\n",
       "7    Extremely Randomized Trees        1.000000          0.801539\n",
       "8                      Adaboost        0.873239          0.802948\n",
       "9  Gradient Boosting Classifier        0.912676          0.831078"
      ]
     },
     "execution_count": 86,
     "metadata": {},
     "output_type": "execute_result"
    }
   ],
   "source": [
    "pd.DataFrame.from_items([('Model', [\"Logistic Regression\",\n",
    "                                    \"Logistic Regression L1\",\n",
    "                                    \"KNN\",\n",
    "                                    \"Linear Support Vector\",\n",
    "                                    \"RBF Support Vector\",\n",
    "                                    \"Gaussian Naive Bayes\",\n",
    "                                    \"Random Forest\",\n",
    "                                    \"Extremely Randomized Trees\",\n",
    "                                    \"Adaboost\",\n",
    "                                    \"Gradient Boosting Classifier\"]),\n",
    "                          ('Train Accuracy', [train_log_acc,\n",
    "                                          train_log_l1_acc,\n",
    "                                          train_knn_acc,\n",
    "                                          train_lsvc_acc,\n",
    "                                          train_svcrbf_acc,\n",
    "                                          train_gnb_acc,\n",
    "                                          train_rf_acc,\n",
    "                                          train_ert_acc,\n",
    "                                          train_ab_acc,\n",
    "                                          train_gbc_acc]),\n",
    "                         ('Mean CV Accuracy', [cv_log_acc,\n",
    "                                          cv_log_l1_acc,\n",
    "                                          cv_knn_acc,\n",
    "                                          cv_lsvc_acc,\n",
    "                                          cv_svcrbf_acc,\n",
    "                                          cv_gnb_acc,\n",
    "                                          cv_rf_acc,\n",
    "                                          cv_ert_acc,\n",
    "                                          cv_ab_acc,\n",
    "                                          cv_gbc_acc])])"
   ]
  },
  {
   "cell_type": "markdown",
   "metadata": {},
   "source": [
    "### Modeling with Median-Value Imputed Data"
   ]
  },
  {
   "cell_type": "markdown",
   "metadata": {},
   "source": [
    "- Imputed data using median strategy will be used.\n",
    "- All models with predictive accuracy higher than 75% will be used"
   ]
  },
  {
   "cell_type": "code",
   "execution_count": 92,
   "metadata": {
    "collapsed": false
   },
   "outputs": [],
   "source": [
    "#Logistic regression with L1 regularizer\n",
    "log_l1_median_scores = sklearn.model_selection.cross_val_score(log_l1, X_median, y_full, cv=10, scoring='accuracy')\n",
    "cv_log_l1_median_acc = log_l1_median_scores.mean()\n",
    "\n",
    "#Random forest\n",
    "rf_median_scores = sklearn.model_selection.cross_val_score(rf, X_median, y_full, cv=10, scoring='accuracy')\n",
    "cv_rf_median_acc = rf_median_scores.mean()\n",
    "\n",
    "#Extremely randomized trees\n",
    "ert_median_scores = sklearn.model_selection.cross_val_score(ert, X_median, y_full, cv=10, scoring='accuracy')\n",
    "cv_ert_median_acc = ert_median_scores.mean()\n",
    "\n",
    "#AdaBoost\n",
    "ab_median_scores = sklearn.model_selection.cross_val_score(ab, X_median, y_full, cv=10, scoring='accuracy')\n",
    "cv_ab_median_acc = ab_median_scores.mean()\n",
    "\n",
    "#Gradient Boosting Classification\n",
    "gbc_median_scores = sklearn.model_selection.cross_val_score(gbc, X_median, y_full, cv=10, scoring='accuracy')\n",
    "cv_gbc_median_acc = gbc_median_scores.mean()"
   ]
  },
  {
   "cell_type": "code",
   "execution_count": 93,
   "metadata": {
    "collapsed": false
   },
   "outputs": [
    {
     "data": {
      "text/html": [
       "<div>\n",
       "<style>\n",
       "    .dataframe thead tr:only-child th {\n",
       "        text-align: right;\n",
       "    }\n",
       "\n",
       "    .dataframe thead th {\n",
       "        text-align: left;\n",
       "    }\n",
       "\n",
       "    .dataframe tbody tr th {\n",
       "        vertical-align: top;\n",
       "    }\n",
       "</style>\n",
       "<table border=\"1\" class=\"dataframe\">\n",
       "  <thead>\n",
       "    <tr style=\"text-align: right;\">\n",
       "      <th></th>\n",
       "      <th>Model</th>\n",
       "      <th>Mean CV Accuracy</th>\n",
       "      <th>Median Value Imputation Mean CV Accuracy</th>\n",
       "    </tr>\n",
       "  </thead>\n",
       "  <tbody>\n",
       "    <tr>\n",
       "      <th>0</th>\n",
       "      <td>Logistic Regression L1</td>\n",
       "      <td>0.784558</td>\n",
       "      <td>0.792405</td>\n",
       "    </tr>\n",
       "    <tr>\n",
       "      <th>1</th>\n",
       "      <td>Random Forest</td>\n",
       "      <td>0.821239</td>\n",
       "      <td>0.838448</td>\n",
       "    </tr>\n",
       "    <tr>\n",
       "      <th>2</th>\n",
       "      <td>Extremely Randomized Trees</td>\n",
       "      <td>0.801539</td>\n",
       "      <td>0.811481</td>\n",
       "    </tr>\n",
       "    <tr>\n",
       "      <th>3</th>\n",
       "      <td>Adaboost</td>\n",
       "      <td>0.802948</td>\n",
       "      <td>0.821619</td>\n",
       "    </tr>\n",
       "    <tr>\n",
       "      <th>4</th>\n",
       "      <td>Gradient Boosting Classifier</td>\n",
       "      <td>0.831078</td>\n",
       "      <td>0.839635</td>\n",
       "    </tr>\n",
       "  </tbody>\n",
       "</table>\n",
       "</div>"
      ],
      "text/plain": [
       "                          Model  Mean CV Accuracy  \\\n",
       "0        Logistic Regression L1          0.784558   \n",
       "1                 Random Forest          0.821239   \n",
       "2    Extremely Randomized Trees          0.801539   \n",
       "3                      Adaboost          0.802948   \n",
       "4  Gradient Boosting Classifier          0.831078   \n",
       "\n",
       "   Median Value Imputation Mean CV Accuracy  \n",
       "0                                  0.792405  \n",
       "1                                  0.838448  \n",
       "2                                  0.811481  \n",
       "3                                  0.821619  \n",
       "4                                  0.839635  "
      ]
     },
     "execution_count": 93,
     "metadata": {},
     "output_type": "execute_result"
    }
   ],
   "source": [
    "pd.DataFrame.from_items([('Model', [\"Logistic Regression L1\",\n",
    "                                    \"Random Forest\",\n",
    "                                    \"Extremely Randomized Trees\",\n",
    "                                    \"Adaboost\",\n",
    "                                    \"Gradient Boosting Classifier\"]),\n",
    "                         ('Mean CV Accuracy', [cv_log_l1_acc,\n",
    "                                               cv_rf_acc,\n",
    "                                               cv_ert_acc,\n",
    "                                               cv_ab_acc,\n",
    "                                               cv_gbc_acc]),\n",
    "                        ('Median Value Imputation Mean CV Accuracy', [cv_log_l1_median_acc,\n",
    "                                                                      cv_rf_median_acc,\n",
    "                                                                      cv_ert_median_acc,\n",
    "                                                                      cv_ab_median_acc,\n",
    "                                                                      cv_gbc_median_acc\n",
    "                                                                     ])])"
   ]
  },
  {
   "cell_type": "markdown",
   "metadata": {},
   "source": [
    "- Given the table above, we can demonstrate that cross validated prediction accuracy improves using a median value imputation strategy\n",
    "- This may justify using median value imputation for future test data\n",
    "- We also note the random forest model is nearly identical in predictive accuracy to the gradient boosting classifier model."
   ]
  },
  {
   "cell_type": "markdown",
   "metadata": {},
   "source": [
    "### Kaggle Submission"
   ]
  },
  {
   "cell_type": "markdown",
   "metadata": {},
   "source": [
    "- The gradient boosting classifier model will be used to make test data predictions because it has the highest prediction accuracy"
   ]
  },
  {
   "cell_type": "code",
   "execution_count": 94,
   "metadata": {
    "collapsed": false
   },
   "outputs": [
    {
     "ename": "ValueError",
     "evalue": "Number of features of the model must match the input. Model n_features is 52 and input n_features is 47 ",
     "output_type": "error",
     "traceback": [
      "\u001b[0;31m---------------------------------------------------------------------------\u001b[0m",
      "\u001b[0;31mValueError\u001b[0m                                Traceback (most recent call last)",
      "\u001b[0;32m<ipython-input-94-6df286905a7a>\u001b[0m in \u001b[0;36m<module>\u001b[0;34m()\u001b[0m\n\u001b[1;32m      3\u001b[0m \u001b[1;33m\u001b[0m\u001b[0m\n\u001b[1;32m      4\u001b[0m \u001b[1;31m#Predict using test data\u001b[0m\u001b[1;33m\u001b[0m\u001b[1;33m\u001b[0m\u001b[0m\n\u001b[0;32m----> 5\u001b[0;31m \u001b[0mtest_prediction\u001b[0m \u001b[1;33m=\u001b[0m \u001b[0mgbc\u001b[0m\u001b[1;33m.\u001b[0m\u001b[0mpredict\u001b[0m\u001b[1;33m(\u001b[0m\u001b[0mtest\u001b[0m\u001b[1;33m)\u001b[0m\u001b[1;33m\u001b[0m\u001b[0m\n\u001b[0m\u001b[1;32m      6\u001b[0m \u001b[1;33m\u001b[0m\u001b[0m\n",
      "\u001b[0;32mC:\\Program Files\\Anaconda3\\lib\\site-packages\\sklearn\\ensemble\\gradient_boosting.py\u001b[0m in \u001b[0;36mpredict\u001b[0;34m(self, X)\u001b[0m\n\u001b[1;32m   1533\u001b[0m             \u001b[0mThe\u001b[0m \u001b[0mpredicted\u001b[0m \u001b[0mvalues\u001b[0m\u001b[1;33m.\u001b[0m\u001b[1;33m\u001b[0m\u001b[0m\n\u001b[1;32m   1534\u001b[0m         \"\"\"\n\u001b[0;32m-> 1535\u001b[0;31m         \u001b[0mscore\u001b[0m \u001b[1;33m=\u001b[0m \u001b[0mself\u001b[0m\u001b[1;33m.\u001b[0m\u001b[0mdecision_function\u001b[0m\u001b[1;33m(\u001b[0m\u001b[0mX\u001b[0m\u001b[1;33m)\u001b[0m\u001b[1;33m\u001b[0m\u001b[0m\n\u001b[0m\u001b[1;32m   1536\u001b[0m         \u001b[0mdecisions\u001b[0m \u001b[1;33m=\u001b[0m \u001b[0mself\u001b[0m\u001b[1;33m.\u001b[0m\u001b[0mloss_\u001b[0m\u001b[1;33m.\u001b[0m\u001b[0m_score_to_decision\u001b[0m\u001b[1;33m(\u001b[0m\u001b[0mscore\u001b[0m\u001b[1;33m)\u001b[0m\u001b[1;33m\u001b[0m\u001b[0m\n\u001b[1;32m   1537\u001b[0m         \u001b[1;32mreturn\u001b[0m \u001b[0mself\u001b[0m\u001b[1;33m.\u001b[0m\u001b[0mclasses_\u001b[0m\u001b[1;33m.\u001b[0m\u001b[0mtake\u001b[0m\u001b[1;33m(\u001b[0m\u001b[0mdecisions\u001b[0m\u001b[1;33m,\u001b[0m \u001b[0maxis\u001b[0m\u001b[1;33m=\u001b[0m\u001b[1;36m0\u001b[0m\u001b[1;33m)\u001b[0m\u001b[1;33m\u001b[0m\u001b[0m\n",
      "\u001b[0;32mC:\\Program Files\\Anaconda3\\lib\\site-packages\\sklearn\\ensemble\\gradient_boosting.py\u001b[0m in \u001b[0;36mdecision_function\u001b[0;34m(self, X)\u001b[0m\n\u001b[1;32m   1492\u001b[0m         \"\"\"\n\u001b[1;32m   1493\u001b[0m         \u001b[0mX\u001b[0m \u001b[1;33m=\u001b[0m \u001b[0mcheck_array\u001b[0m\u001b[1;33m(\u001b[0m\u001b[0mX\u001b[0m\u001b[1;33m,\u001b[0m \u001b[0mdtype\u001b[0m\u001b[1;33m=\u001b[0m\u001b[0mDTYPE\u001b[0m\u001b[1;33m,\u001b[0m \u001b[0morder\u001b[0m\u001b[1;33m=\u001b[0m\u001b[1;34m\"C\"\u001b[0m\u001b[1;33m)\u001b[0m\u001b[1;33m\u001b[0m\u001b[0m\n\u001b[0;32m-> 1494\u001b[0;31m         \u001b[0mscore\u001b[0m \u001b[1;33m=\u001b[0m \u001b[0mself\u001b[0m\u001b[1;33m.\u001b[0m\u001b[0m_decision_function\u001b[0m\u001b[1;33m(\u001b[0m\u001b[0mX\u001b[0m\u001b[1;33m)\u001b[0m\u001b[1;33m\u001b[0m\u001b[0m\n\u001b[0m\u001b[1;32m   1495\u001b[0m         \u001b[1;32mif\u001b[0m \u001b[0mscore\u001b[0m\u001b[1;33m.\u001b[0m\u001b[0mshape\u001b[0m\u001b[1;33m[\u001b[0m\u001b[1;36m1\u001b[0m\u001b[1;33m]\u001b[0m \u001b[1;33m==\u001b[0m \u001b[1;36m1\u001b[0m\u001b[1;33m:\u001b[0m\u001b[1;33m\u001b[0m\u001b[0m\n\u001b[1;32m   1496\u001b[0m             \u001b[1;32mreturn\u001b[0m \u001b[0mscore\u001b[0m\u001b[1;33m.\u001b[0m\u001b[0mravel\u001b[0m\u001b[1;33m(\u001b[0m\u001b[1;33m)\u001b[0m\u001b[1;33m\u001b[0m\u001b[0m\n",
      "\u001b[0;32mC:\\Program Files\\Anaconda3\\lib\\site-packages\\sklearn\\ensemble\\gradient_boosting.py\u001b[0m in \u001b[0;36m_decision_function\u001b[0;34m(self, X)\u001b[0m\n\u001b[1;32m   1122\u001b[0m         \u001b[1;31m# for use in inner loop, not raveling the output in single-class case,\u001b[0m\u001b[1;33m\u001b[0m\u001b[1;33m\u001b[0m\u001b[0m\n\u001b[1;32m   1123\u001b[0m         \u001b[1;31m# not doing input validation.\u001b[0m\u001b[1;33m\u001b[0m\u001b[1;33m\u001b[0m\u001b[0m\n\u001b[0;32m-> 1124\u001b[0;31m         \u001b[0mscore\u001b[0m \u001b[1;33m=\u001b[0m \u001b[0mself\u001b[0m\u001b[1;33m.\u001b[0m\u001b[0m_init_decision_function\u001b[0m\u001b[1;33m(\u001b[0m\u001b[0mX\u001b[0m\u001b[1;33m)\u001b[0m\u001b[1;33m\u001b[0m\u001b[0m\n\u001b[0m\u001b[1;32m   1125\u001b[0m         \u001b[0mpredict_stages\u001b[0m\u001b[1;33m(\u001b[0m\u001b[0mself\u001b[0m\u001b[1;33m.\u001b[0m\u001b[0mestimators_\u001b[0m\u001b[1;33m,\u001b[0m \u001b[0mX\u001b[0m\u001b[1;33m,\u001b[0m \u001b[0mself\u001b[0m\u001b[1;33m.\u001b[0m\u001b[0mlearning_rate\u001b[0m\u001b[1;33m,\u001b[0m \u001b[0mscore\u001b[0m\u001b[1;33m)\u001b[0m\u001b[1;33m\u001b[0m\u001b[0m\n\u001b[1;32m   1126\u001b[0m         \u001b[1;32mreturn\u001b[0m \u001b[0mscore\u001b[0m\u001b[1;33m\u001b[0m\u001b[0m\n",
      "\u001b[0;32mC:\\Program Files\\Anaconda3\\lib\\site-packages\\sklearn\\ensemble\\gradient_boosting.py\u001b[0m in \u001b[0;36m_init_decision_function\u001b[0;34m(self, X)\u001b[0m\n\u001b[1;32m   1112\u001b[0m         \u001b[1;34m\"\"\"Check input and compute prediction of ``init``. \"\"\"\u001b[0m\u001b[1;33m\u001b[0m\u001b[0m\n\u001b[1;32m   1113\u001b[0m         \u001b[0mself\u001b[0m\u001b[1;33m.\u001b[0m\u001b[0m_check_initialized\u001b[0m\u001b[1;33m(\u001b[0m\u001b[1;33m)\u001b[0m\u001b[1;33m\u001b[0m\u001b[0m\n\u001b[0;32m-> 1114\u001b[0;31m         \u001b[0mX\u001b[0m \u001b[1;33m=\u001b[0m \u001b[0mself\u001b[0m\u001b[1;33m.\u001b[0m\u001b[0mestimators_\u001b[0m\u001b[1;33m[\u001b[0m\u001b[1;36m0\u001b[0m\u001b[1;33m,\u001b[0m \u001b[1;36m0\u001b[0m\u001b[1;33m]\u001b[0m\u001b[1;33m.\u001b[0m\u001b[0m_validate_X_predict\u001b[0m\u001b[1;33m(\u001b[0m\u001b[0mX\u001b[0m\u001b[1;33m,\u001b[0m \u001b[0mcheck_input\u001b[0m\u001b[1;33m=\u001b[0m\u001b[1;32mTrue\u001b[0m\u001b[1;33m)\u001b[0m\u001b[1;33m\u001b[0m\u001b[0m\n\u001b[0m\u001b[1;32m   1115\u001b[0m         \u001b[1;32mif\u001b[0m \u001b[0mX\u001b[0m\u001b[1;33m.\u001b[0m\u001b[0mshape\u001b[0m\u001b[1;33m[\u001b[0m\u001b[1;36m1\u001b[0m\u001b[1;33m]\u001b[0m \u001b[1;33m!=\u001b[0m \u001b[0mself\u001b[0m\u001b[1;33m.\u001b[0m\u001b[0mn_features\u001b[0m\u001b[1;33m:\u001b[0m\u001b[1;33m\u001b[0m\u001b[0m\n\u001b[1;32m   1116\u001b[0m             raise ValueError(\"X.shape[1] should be {0:d}, not {1:d}.\".format(\n",
      "\u001b[0;32mC:\\Program Files\\Anaconda3\\lib\\site-packages\\sklearn\\tree\\tree.py\u001b[0m in \u001b[0;36m_validate_X_predict\u001b[0;34m(self, X, check_input)\u001b[0m\n\u001b[1;32m    374\u001b[0m                              \u001b[1;34m\"match the input. Model n_features is %s and \"\u001b[0m\u001b[1;33m\u001b[0m\u001b[0m\n\u001b[1;32m    375\u001b[0m                              \u001b[1;34m\"input n_features is %s \"\u001b[0m\u001b[1;33m\u001b[0m\u001b[0m\n\u001b[0;32m--> 376\u001b[0;31m                              % (self.n_features_, n_features))\n\u001b[0m\u001b[1;32m    377\u001b[0m \u001b[1;33m\u001b[0m\u001b[0m\n\u001b[1;32m    378\u001b[0m         \u001b[1;32mreturn\u001b[0m \u001b[0mX\u001b[0m\u001b[1;33m\u001b[0m\u001b[0m\n",
      "\u001b[0;31mValueError\u001b[0m: Number of features of the model must match the input. Model n_features is 52 and input n_features is 47 "
     ]
    }
   ],
   "source": [
    "### NEED TO MAKE SURE TEST DATA FEATURES ALIGN WITH TRAINING FEATURES\n",
    "### MAYBE KEEP PASSENGER ID\n",
    "\n",
    "#Impute test data\n",
    "test = imp_median.fit_transform(test)\n",
    "\n",
    "#Predict using test data\n",
    "test_prediction = gbc.predict(test)\n",
    "\n"
   ]
  },
  {
   "cell_type": "code",
   "execution_count": null,
   "metadata": {
    "collapsed": true
   },
   "outputs": [],
   "source": []
  }
 ],
 "metadata": {
  "anaconda-cloud": {},
  "kernelspec": {
   "display_name": "Python [conda root]",
   "language": "python",
   "name": "conda-root-py"
  },
  "language_info": {
   "codemirror_mode": {
    "name": "ipython",
    "version": 3
   },
   "file_extension": ".py",
   "mimetype": "text/x-python",
   "name": "python",
   "nbconvert_exporter": "python",
   "pygments_lexer": "ipython3",
   "version": "3.5.2"
  }
 },
 "nbformat": 4,
 "nbformat_minor": 1
}
