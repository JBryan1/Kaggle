{
 "cells": [
  {
   "cell_type": "markdown",
   "metadata": {
    "collapsed": true
   },
   "source": [
    "### Problem\n",
    "The RMS Titanic was the largest ocean liner to enter service at the time and included numerous luxury amentities for upper-class passengers. The ship also transported many poor immigrants seeking to begin a new life in America. On April 15th, 1912 the RMS Titanic hit an iceberg on its maiden voyage from Southampton, England to New York, New York. The disaster claimed approximately 1,500 lives while 710 survived. How can we predict whether a passenger died on the RMS Titanic  using passenger data including demographics, fare, cabin, embarkation, and ticket information?"
   ]
  },
  {
   "cell_type": "markdown",
   "metadata": {},
   "source": [
    "### Approach\n",
    "\n",
    "In a real-life scenario, analysis like this could be used to predict the severity of future martitime accidents or compare similar historical maritime accidents to the RMS Titanic. In emergency situations, a model that most accurately predicts passenger mortality could allow for better emergency planning and response. Future retrospective analysis may benefit from a model that accurately predicts passenger mortality on the RMS Titanic while allowing features of the model to remain interpretable to further test and investigate the history behind tragic maritime accidents. As an example, historians may like to test the hypothesis whether the \"women and children first\" policy had a significant impact on the survivalability of women and children."
   ]
  },
  {
   "cell_type": "markdown",
   "metadata": {},
   "source": [
    "### Goal\n",
    "Develop two models that predict whether a passenger of the RMS Titanic survived. \n",
    "\n",
    "- The first model should give maximum interpretability of features while achieving an cross validated prediction accuracy of no less than 25% lower than the top model. This model is intended to allow for comparison of other historical maritime accidents to validate the importance of different passenger features. \n",
    "- The second model should give the highest cross-validated prediction accuracy. This model is intended to be used to predict future maritime accident severity."
   ]
  },
  {
   "cell_type": "markdown",
   "metadata": {},
   "source": [
    "### Data Cleaning and Feature Engineering"
   ]
  },
  {
   "cell_type": "markdown",
   "metadata": {},
   "source": [
    "### Results"
   ]
  },
  {
   "cell_type": "code",
   "execution_count": null,
   "metadata": {
    "collapsed": true
   },
   "outputs": [],
   "source": []
  }
 ],
 "metadata": {
  "anaconda-cloud": {},
  "kernelspec": {
   "display_name": "Python [conda root]",
   "language": "python",
   "name": "conda-root-py"
  },
  "language_info": {
   "codemirror_mode": {
    "name": "ipython",
    "version": 3
   },
   "file_extension": ".py",
   "mimetype": "text/x-python",
   "name": "python",
   "nbconvert_exporter": "python",
   "pygments_lexer": "ipython3",
   "version": "3.5.2"
  }
 },
 "nbformat": 4,
 "nbformat_minor": 1
}
